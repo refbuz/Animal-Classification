{
  "nbformat": 4,
  "nbformat_minor": 0,
  "metadata": {
    "colab": {
      "name": "Prediksi.ipynb",
      "provenance": [],
      "collapsed_sections": []
    },
    "kernelspec": {
      "name": "python3",
      "display_name": "Python 3"
    },
    "language_info": {
      "name": "python"
    }
  },
  "cells": [
    {
      "cell_type": "code",
      "metadata": {
        "id": "aer4FbQT-Adw"
      },
      "source": [
        "import numpy as np\n",
        "import pandas as pd\n",
        "import tensorflow as tf\n",
        "import matplotlib.pyplot as plt\n",
        "import requests\n",
        "from io import BytesIO\n",
        "from PIL import Image"
      ],
      "execution_count": null,
      "outputs": []
    },
    {
      "cell_type": "code",
      "metadata": {
        "colab": {
          "base_uri": "https://localhost:8080/"
        },
        "id": "KESqDw1Kct2h",
        "outputId": "ab779461-9458-43b6-c563-54e4d8224cc5"
      },
      "source": [
        "from google.colab import drive\n",
        "drive.mount('/content/drive')"
      ],
      "execution_count": null,
      "outputs": [
        {
          "output_type": "stream",
          "name": "stdout",
          "text": [
            "Mounted at /content/drive\n"
          ]
        }
      ]
    },
    {
      "cell_type": "code",
      "metadata": {
        "id": "rW2xSC4Xc1cC"
      },
      "source": [
        "from keras.models import load_model\n",
        "models = load_model(\"/content/drive/MyDrive/TA/Model/Models/Models.h5\")"
      ],
      "execution_count": null,
      "outputs": []
    },
    {
      "cell_type": "code",
      "metadata": {
        "id": "nBTleqSnc5Il"
      },
      "source": [
        "Labelling = pd.read_csv(\n",
        "    \"/content/drive/MyDrive/TA/Dataset/Labels.txt\",names = [\n",
        "                                  \"Label\",\n",
        "                                  \"Nama\",\n",
        "                                  \"GambarTrain\",\n",
        "                                  \"GambarValid\"\n",
        "    ],\n",
        "    skiprows = 1,\n",
        "    index_col = False\n",
        ")\n",
        "\n",
        "label = Labelling[\"Nama\"].str.strip()\n",
        "label = label.to_numpy()"
      ],
      "execution_count": null,
      "outputs": []
    },
    {
      "cell_type": "code",
      "metadata": {
        "id": "okUHu089csHI"
      },
      "source": [
        "test_images = \"link\" # simpan link disini\n",
        "\n",
        "IMAGE_SIZE = [256, 256]\n",
        "\n",
        "response = requests.get(test_images)\n",
        "img = Image.open(BytesIO(response.content))\n",
        "img = np.asarray(img)/255.\n",
        "img = tf.image.resize(img, [IMAGE_SIZE[0], IMAGE_SIZE[1]])\n",
        "img = tf.reshape(img, (1,IMAGE_SIZE[0], IMAGE_SIZE[1],3))\n",
        "      \n",
        "prediction = models.predict(img)\n",
        "output = np.argmax(prediction)\n",
        "if (label[output] == 'Badak' or label[output] == 'Beruang' or label[output] == 'Gajah' or label[output] =='Harimau' or label[output] == 'Orangutan'):      \n",
        "  plt.title(\"Predict: {}\".format(label[output]))\n",
        "  plt.imshow(img[0])\n",
        "  plt.show()"
      ],
      "execution_count": null,
      "outputs": []
    }
  ]
}