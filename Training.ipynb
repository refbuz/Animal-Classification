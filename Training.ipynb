{
  "nbformat": 4,
  "nbformat_minor": 0,
  "metadata": {
    "accelerator": "GPU",
    "colab": {
      "name": "Models.ipynb",
      "provenance": [],
      "collapsed_sections": [],
      "toc_visible": true
    },
    "kernelspec": {
      "display_name": "Python 3",
      "name": "python3"
    },
    "language_info": {
      "name": "python"
    }
  },
  "cells": [
    {
      "cell_type": "code",
      "metadata": {
        "id": "s37dVPm_moRk"
      },
      "source": [
        "%matplotlib inline\n",
        "\n",
        "import numpy as np\n",
        "import pandas as pd\n",
        "import tensorflow as tf\n",
        "import matplotlib.pyplot as plt\n",
        "import requests\n",
        "from io import BytesIO\n",
        "from PIL import Image\n",
        "from keras.preprocessing.image import ImageDataGenerator\n",
        "import keras"
      ],
      "execution_count": null,
      "outputs": []
    },
    {
      "cell_type": "code",
      "metadata": {
        "colab": {
          "base_uri": "https://localhost:8080/"
        },
        "id": "hMc7eXZ2mz_6",
        "outputId": "a86ac135-40e7-4097-b85b-eb9d0f8a0787"
      },
      "source": [
        "from google.colab import drive\n",
        "drive.mount('/content/drive')"
      ],
      "execution_count": null,
      "outputs": [
        {
          "output_type": "stream",
          "name": "stdout",
          "text": [
            "Mounted at /content/drive\n"
          ]
        }
      ]
    },
    {
      "cell_type": "code",
      "metadata": {
        "colab": {
          "base_uri": "https://localhost:8080/"
        },
        "id": "7TSIlRrNm3Uh",
        "outputId": "c59fa9b7-544c-40c0-96f1-404e534b760a"
      },
      "source": [
        "Datrain = '/content/drive/MyDrive/TA/Dataset/Model 1/Train'\n",
        "Davalid = '/content/drive/MyDrive/TA/Dataset/Model 1/Val'\n",
        "Datest = '/content/drive/MyDrive/TA/Dataset/Model 1/Test'\n",
        "Labelling = pd.read_csv(\n",
        "    \"/content/drive/MyDrive/TA/Dataset/Labels.txt\",names = [\n",
        "                                  \"Label\",\n",
        "                                  \"Nama\",\n",
        "                                  \"GambarTrain\"\n",
        "                                  \"GambarValid\"\n",
        "    ],\n",
        "    skiprows = 1,\n",
        "    index_col = False\n",
        ")\n",
        "\n",
        "label = Labelling[\"Nama\"].str.strip()\n",
        "label = label.to_numpy()\n",
        "print(label)"
      ],
      "execution_count": null,
      "outputs": [
        {
          "output_type": "stream",
          "name": "stdout",
          "text": [
            "['Badak' 'Beruang' 'Gajah' 'Harimau' 'NonDeteksi' 'Orangutan']\n"
          ]
        }
      ]
    },
    {
      "cell_type": "code",
      "metadata": {
        "id": "IgOsPOY3nJtc"
      },
      "source": [
        "IMAGE_SIZE = [256, 256]\n",
        "EPOCHS = 10\n",
        "SEED = 1337\n",
        "CLASSES = 6\n",
        "BATCH_SIZE = 32 "
      ],
      "execution_count": null,
      "outputs": []
    },
    {
      "cell_type": "code",
      "metadata": {
        "colab": {
          "base_uri": "https://localhost:8080/"
        },
        "id": "OW0eMPaWm-wh",
        "outputId": "4f59a4bd-e37d-4503-f5de-4be9f6e9cac7"
      },
      "source": [
        "train_datagen = ImageDataGenerator(\n",
        "    rescale = 1./255,\n",
        "    width_shift_range = 0.2,\n",
        "    height_shift_range = 0.2,\n",
        "    rotation_range = 30,\n",
        "    zoom_range = 0.2,\n",
        "    shear_range = 0.2,\n",
        "    horizontal_flip = True,\n",
        "    fill_mode='nearest'\n",
        ")\n",
        "\n",
        "train_generator = train_datagen.flow_from_directory(\n",
        "    Datrain,\n",
        "    target_size = IMAGE_SIZE,\n",
        "    batch_size = BATCH_SIZE,\n",
        "    shuffle = True,\n",
        "    class_mode = 'categorical'\n",
        ")\n",
        "\n",
        "test_datagen = ImageDataGenerator(\n",
        "    rescale = 1./255\n",
        ")\n",
        "\n",
        "validation_generator = test_datagen.flow_from_directory(\n",
        "    Davalid,\n",
        "    target_size = IMAGE_SIZE,\n",
        "    batch_size = BATCH_SIZE,\n",
        "    seed = SEED,\n",
        "    shuffle = False,\n",
        "    class_mode = 'categorical'\n",
        ")\n",
        "\n",
        "\n",
        "test_generator = test_datagen.flow_from_directory(\n",
        "    Datest,\n",
        "    target_size = IMAGE_SIZE,\n",
        "    batch_size = BATCH_SIZE,\n",
        "    seed = SEED,\n",
        "    shuffle = False,\n",
        "    class_mode = 'categorical'\n",
        ")"
      ],
      "execution_count": null,
      "outputs": [
        {
          "output_type": "stream",
          "name": "stdout",
          "text": [
            "Found 18637 images belonging to 6 classes.\n",
            "Found 2071 images belonging to 6 classes.\n",
            "Found 5180 images belonging to 6 classes.\n"
          ]
        }
      ]
    },
    {
      "cell_type": "code",
      "metadata": {
        "id": "3zv9qe9VQw-M",
        "colab": {
          "base_uri": "https://localhost:8080/"
        },
        "outputId": "9b2b6267-982b-4124-961e-b63b14b0a696"
      },
      "source": [
        "resnet_model = tf.keras.applications.ResNet50(\n",
        "    weights='imagenet',\n",
        "    include_top=False\n",
        ")\n",
        "\n",
        "x = resnet_model.output\n",
        "x = tf.keras.layers.GlobalAveragePooling2D()(x)\n",
        "x = tf.keras.layers.Dense(512,activation='relu')(x)\n",
        "predictions = tf.keras.layers.Dense(\n",
        "    int(len(train_generator.class_indices.keys())),\n",
        "    activation='softmax'\n",
        ")(x)\n",
        "\n",
        "resnet50_model = tf.keras.models.Model(\n",
        "    inputs= resnet_model.input, \n",
        "    outputs=predictions\n",
        ")\n",
        "\n",
        "resnet50_model.compile(\n",
        "    loss='categorical_crossentropy', \n",
        "    optimizer=tf.keras.optimizers.SGD(lr=1e-4, momentum=0.9),\n",
        "    metrics=['accuracy']\n",
        ")\n",
        "\n",
        "history = resnet50_model.fit_generator(\n",
        "    train_generator, \n",
        "    epochs=EPOCHS, \n",
        "    shuffle=True, \n",
        "    verbose=1,\n",
        "    validation_data=validation_generator\n",
        ")\n",
        "\n",
        "resnet50_model.save('/content/drive/MyDrive/TA/Model/Models/Models.h5')"
      ],
      "execution_count": null,
      "outputs": [
        {
          "output_type": "stream",
          "name": "stdout",
          "text": [
            "Downloading data from https://storage.googleapis.com/tensorflow/keras-applications/resnet/resnet50_weights_tf_dim_ordering_tf_kernels_notop.h5\n",
            "94773248/94765736 [==============================] - 1s 0us/step\n",
            "94781440/94765736 [==============================] - 1s 0us/step\n"
          ]
        },
        {
          "output_type": "stream",
          "name": "stderr",
          "text": [
            "/usr/local/lib/python3.7/dist-packages/keras/optimizer_v2/optimizer_v2.py:356: UserWarning: The `lr` argument is deprecated, use `learning_rate` instead.\n",
            "  \"The `lr` argument is deprecated, use `learning_rate` instead.\")\n",
            "/usr/local/lib/python3.7/dist-packages/keras/engine/training.py:1972: UserWarning: `Model.fit_generator` is deprecated and will be removed in a future version. Please use `Model.fit`, which supports generators.\n",
            "  warnings.warn('`Model.fit_generator` is deprecated and '\n"
          ]
        },
        {
          "output_type": "stream",
          "name": "stdout",
          "text": [
            "Epoch 1/10\n",
            "583/583 [==============================] - 5436s 9s/step - loss: 0.5801 - accuracy: 0.8345 - val_loss: 1.5928 - val_accuracy: 0.3679\n",
            "Epoch 2/10\n",
            "583/583 [==============================] - 530s 908ms/step - loss: 0.1421 - accuracy: 0.9661 - val_loss: 0.0639 - val_accuracy: 0.9884\n",
            "Epoch 3/10\n",
            "583/583 [==============================] - 524s 898ms/step - loss: 0.0845 - accuracy: 0.9791 - val_loss: 0.0394 - val_accuracy: 0.9913\n",
            "Epoch 4/10\n",
            "583/583 [==============================] - 535s 917ms/step - loss: 0.0627 - accuracy: 0.9843 - val_loss: 0.0287 - val_accuracy: 0.9928\n",
            "Epoch 5/10\n",
            "583/583 [==============================] - 546s 936ms/step - loss: 0.0502 - accuracy: 0.9868 - val_loss: 0.0240 - val_accuracy: 0.9928\n",
            "Epoch 6/10\n",
            "583/583 [==============================] - 539s 924ms/step - loss: 0.0425 - accuracy: 0.9889 - val_loss: 0.0197 - val_accuracy: 0.9947\n",
            "Epoch 7/10\n",
            "583/583 [==============================] - 533s 913ms/step - loss: 0.0360 - accuracy: 0.9903 - val_loss: 0.0175 - val_accuracy: 0.9952\n",
            "Epoch 8/10\n",
            "583/583 [==============================] - 534s 915ms/step - loss: 0.0327 - accuracy: 0.9914 - val_loss: 0.0159 - val_accuracy: 0.9957\n",
            "Epoch 9/10\n",
            "583/583 [==============================] - 536s 918ms/step - loss: 0.0285 - accuracy: 0.9918 - val_loss: 0.0157 - val_accuracy: 0.9966\n",
            "Epoch 10/10\n",
            "583/583 [==============================] - 543s 931ms/step - loss: 0.0237 - accuracy: 0.9936 - val_loss: 0.0131 - val_accuracy: 0.9971\n"
          ]
        },
        {
          "output_type": "stream",
          "name": "stderr",
          "text": [
            "/usr/local/lib/python3.7/dist-packages/keras/utils/generic_utils.py:497: CustomMaskWarning: Custom mask layers require a config and must override get_config. When loading, the custom mask layer must be passed to the custom_objects argument.\n",
            "  category=CustomMaskWarning)\n"
          ]
        }
      ]
    },
    {
      "cell_type": "code",
      "metadata": {
        "colab": {
          "base_uri": "https://localhost:8080/",
          "height": 590
        },
        "id": "qnKbdDp4qb2z",
        "outputId": "4f46760b-f330-422d-be21-71b43b7e0311"
      },
      "source": [
        "print(history.history.keys())\n",
        "# summarize history for accuracy\n",
        "plt.plot(history.history['accuracy'])\n",
        "plt.plot(history.history['val_accuracy'])\n",
        "plt.title('model accuracy')\n",
        "plt.ylabel('accuracy')\n",
        "plt.xlabel('epoch')\n",
        "plt.legend(['train', 'valid'], loc='upper left')\n",
        "plt.show()\n",
        "# summarize history for loss\n",
        "plt.plot(history.history['loss'])\n",
        "plt.plot(history.history['val_loss'])\n",
        "plt.title('model loss')\n",
        "plt.ylabel('loss')\n",
        "plt.xlabel('epoch')\n",
        "plt.legend(['train', 'valid'], loc='upper left')\n",
        "plt.show()"
      ],
      "execution_count": null,
      "outputs": [
        {
          "output_type": "stream",
          "name": "stdout",
          "text": [
            "dict_keys(['loss', 'accuracy', 'val_loss', 'val_accuracy'])\n"
          ]
        },
        {
          "output_type": "display_data",
          "data": {
            "image/png": "[encoded data removed]",
            "text/plain": [
              "<Figure size 432x288 with 1 Axes>"
            ]
          },
          "metadata": {
            "needs_background": "light"
          }
        },
        {
          "output_type": "display_data",
          "data": {
            "image/png": "[encoded data removed]",
            "text/plain": [
              "<Figure size 432x288 with 1 Axes>"
            ]
          },
          "metadata": {
            "needs_background": "light"
          }
        }
      ]
    }
  ]
}